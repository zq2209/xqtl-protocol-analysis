{
 "cells": [
  {
   "cell_type": "markdown",
   "id": "monthly-offer",
   "metadata": {
    "kernel": "SoS",
    "tags": []
   },
   "source": [
    "# RNA-seq expression - Code"
   ]
  },
  {
   "cell_type": "markdown",
   "id": "pacific-blame",
   "metadata": {
    "kernel": "SoS"
   },
   "source": [
    "### Perform data quality summary via fastqc"
   ]
  },
  {
   "cell_type": "code",
   "execution_count": null,
   "id": "equipped-inspiration",
   "metadata": {
    "kernel": "Bash"
   },
   "outputs": [],
   "source": [
    "sos run /home/ziningqi0913/xqtl-pipeline/pipeline/RNA_calling.ipynb fastqc \\\n",
    "    --cwd /home/ziningqi0913/output/rnaseq/fastqc \\\n",
    "    --samples /home/ziningqi0913/fastq/xqtl_protocol_data.fastqlist \\\n",
    "    --data-dir /home/ziningqi0913/fastq \\\n",
    "    --container /home/ziningqi0913/containers/rna_quantification.sif \\\n",
    "    --gtf /home/ziningqi0913/reference_data/Homo_sapiens.GRCh38.103.chr.reformatted.ERCC.gtf\n"
   ]
  },
  {
   "cell_type": "markdown",
   "id": "cbc4fd07",
   "metadata": {},
   "source": [
    "### Read alignment via STAR and QC via Picard"
   ]
  },
  {
   "cell_type": "code",
   "execution_count": null,
   "id": "fab913a0-2328-4882-9a50-c80f1018a544",
   "metadata": {
    "kernel": "Bash"
   },
   "outputs": [],
   "source": [
    "sos run pipeline/RNA_calling.ipynb STAR_output \\\n",
    "    --cwd output/rnaseq --samples ROSMAP_data/RNASeq/fastq/xqtl_protocol_data.fastqlist \\\n",
    "    --data-dir ROSMAP_data/RNASeq/fastq --STAR-index reference_data/STAR_Index/ \\\n",
    "    --gtf reference_data/Homo_sapiens.GRCh38.103.chr.reformatted.ERCC.gtf \\\n",
    "    --container containers/rna_quantification.sif \\\n",
    "    --reference-fasta reference_data/GRCh38_full_analysis_set_plus_decoy_hla.noALT_noHLA_noDecoy_ERCC.fasta \\\n",
    "    --ref-flat reference_data/Homo_sapiens.GRCh38.103.chr.reformatted.ERCC.ref.flat"
   ]
  },
  {
   "cell_type": "markdown",
   "id": "b10567fd",
   "metadata": {},
   "source": [
    "### Call gene-level RNA expression via rnaseqc\n",
    "Following steps generate the count table of gene expression"
   ]
  },
  {
   "cell_type": "code",
   "execution_count": null,
   "id": "635de0fe-5bf6-4e3b-a2fb-e2e42d000b44",
   "metadata": {
    "kernel": "Bash"
   },
   "outputs": [],
   "source": [
    "sos run /home/ziningqi0913/xqtl-pipeline/pipeline/RNA_calling.ipynb rnaseqc_call \\\n",
    "    --cwd /home/ziningqi0913/output/rnaseq \\\n",
    "    --samples /home/ziningqi0913/fastq/xqtl_protocol_data.fastqlist    --data-dir /home/ziningqi0913/fastq \\\n",
    "    --gtf /home/ziningqi0913/reference_data/Homo_sapiens.GRCh38.103.chr.reformatted.collapse_only.gene.gtf \\\n",
    "    --container /home/ziningqi0913/containers/rna_quantification.sif \\\n",
    "    --reference-fasta /home/ziningqi0913/reference_data/GRCh38_full_analysis_set_plus_decoy_hla.noALT_noHLA_noDecoy.fasta \\\n",
    "    --bam_list /home/ziningqi0913/output/rnaseq/xqtl_protocol_data_bam_list"
   ]
  },
  {
   "cell_type": "markdown",
   "id": "342d68fb",
   "metadata": {},
   "source": [
    "### Call transcript level RNA expression via RSEM"
   ]
  },
  {
   "cell_type": "code",
   "execution_count": null,
   "id": "sunset-witness",
   "metadata": {
    "kernel": "Bash"
   },
   "outputs": [],
   "source": [
    "sos run /home/ziningqi0913/xqtl-pipeline/pipeline/RNA_calling.ipynb rsem_call  \\\n",
    "    --cwd /home/ziningqi0913/output/rnaseq   \\\n",
    "    --samples /home/ziningqi0913/fastq/xqtl_protocol_data.fastqlist  \\\n",
    "    --data-dir /home/ziningqi0913/fastq/   \\\n",
    "    --RSEM-index /home/ziningqi0913/reference_data/RSEM_Index/   \\\n",
    "    --container /home/ziningqi0913/containers/rna_quantification.sif   \\\n",
    "    --bam_list /home/ziningqi0913/output/rnaseq/xqtl_protocol_data_bam_list   "
   ]
  },
  {
   "cell_type": "markdown",
   "id": "824a966d",
   "metadata": {},
   "source": [
    "### Multi-sample RNA-seq QC"
   ]
  },
  {
   "cell_type": "code",
   "execution_count": null,
   "id": "worth-laser",
   "metadata": {
    "kernel": "Bash"
   },
   "outputs": [],
   "source": [
    "sos run /home/ziningqi0913/xqtl-pipeline/pipeline/bulk_expression_QC.ipynb qc \\\n",
    "    --cwd /home/ziningqi0913/output/rnaseq \\ \\\n",
    "    --tpm-gct /home/ziningqi0913/output/rnaseq/xqtl_protocol_data.rnaseqc.gene_tpm.gct.gz \\\n",
    "    --counts-gct /home/ziningqi0913/output/rnaseq/xqtl_protocol_data.rnaseqc.gene_readsCount.gct.gz \\\n",
    "    --container /home/ziningqi0913/containers/rna_quantification.sif "
   ]
  },
  {
   "cell_type": "markdown",
   "id": "4f74d420",
   "metadata": {},
   "source": [
    "### Multi-sample read count normalization"
   ]
  },
  {
   "cell_type": "code",
   "execution_count": null,
   "id": "b5689265-c9d3-40a6-adf9-21349a342e68",
   "metadata": {
    "kernel": "Bash"
   },
   "outputs": [],
   "source": [
    "sos run /home/ziningqi0913/xqtl-pipeline/pipeline/bulk_expression_normalization.ipynb normalize \\\n",
    "    --cwd /home/ziningqi0913/output/rnaseq \\\n",
    "    --tpm-gct /home/ziningqi0913/output/rnaseq/xqtl_protocol_data.rnaseqc.low_expression_filtered.outlier_removed.tpm.gct.gz \\\n",
    "    --counts-gct /home/ziningqi0913/output/rnaseq/xqtl_protocol_data.rnaseqc.low_expression_filtered.outlier_removed.geneCount.gct.gz \\\n",
    "    --annotation-gtf /home/ziningqi0913/reference_data/Homo_sapiens.GRCh38.103.chr.reformatted.collapse_only.gene.ERCC.gtf  \\\n",
    "    --container /home/ziningqi0913/containers/rna_quantification.sif \\\n",
    "    --count-threshold 1 --sample_participant_lookup /home/ziningqi0913/reference_data/sample_participant_lookup.rnaseq"
   ]
  }
 ],
 "metadata": {
  "kernelspec": {
   "display_name": "SoS",
   "language": "sos",
   "name": "sos"
  },
  "language_info": {
   "codemirror_mode": "sos",
   "file_extension": ".sos",
   "mimetype": "text/x-sos",
   "name": "sos",
   "nbconvert_exporter": "sos_notebook.converter.SoS_Exporter",
   "pygments_lexer": "sos"
  },
  "sos": {
   "kernels": [
    [
     "Bash",
     "bash",
     "Bash",
     "#E6EEFF",
     "shell"
    ],
    [
     "SoS",
     "sos",
     "",
     "",
     "sos"
    ]
   ],
   "version": "0.23.4"
  }
 },
 "nbformat": 4,
 "nbformat_minor": 5
}
