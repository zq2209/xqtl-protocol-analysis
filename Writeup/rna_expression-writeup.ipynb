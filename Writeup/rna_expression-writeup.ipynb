{
 "cells": [
  {
   "cell_type": "markdown",
   "id": "2d44b902",
   "metadata": {
    "kernel": "SoS"
   },
   "source": [
    "# RNA-seq expression - Writeup"
   ]
  },
  {
   "cell_type": "markdown",
   "id": "thousand-spice",
   "metadata": {
    "kernel": "SoS",
    "tags": []
   },
   "source": [
    "##  What I have done:\n",
    "* Solved some issues met during running some codes in protocol. \n",
    "* Read some papers about stranded, [one is](https://bmcbioinformatics.biomedcentral.com/articles/10.1186/s12859-022-04572-7) and [another one is](https://rnabio.org/module-09-appendix/0009/12/01/StrandSettings/).\n",
    "* Watched few lectures about genetics and genomics \n",
    "* Watched some videos introducing rna-seq quantification. [link is here](https://www.youtube.com/playlist?list=PLeB-Dlq-v6tY3QLdQBA7rwb4a7fK9mLpv).\n"
   ]
  },
  {
   "cell_type": "markdown",
   "id": "shared-sucking",
   "metadata": {
    "kernel": "SoS"
   },
   "source": [
    "## What I have learned\n",
    "During this protocol, I have met some issues, especially memory issue. The most feasible way is to skip that step and continue working on next steps. A problem have to be solved before next step is to find files needed for next steps. The way is to download what I don't have for next steps, then download files listed in that file. \n",
    "\n",
    "By watching videos of the course \"Computational Biology & Bioinformatics\", I have learned sequenceing technology, including 1st generation(Sanger sequencing), 2nd generation(Illumina Sequencing), and 3rd generation sequencing. Also, I have learned the format of FASTQ file(what is in FASTQ files), what is FASTQC, good sequence quality, command tool for analyze quality. \n",
    "\n",
    "After reading some articles of stranded, I haved learned tools for rna-seq analysis.\n",
    "And I read the paper about how_are_we_stranded_here, a python library of strandness of rna-seq data.\n",
    "\n",
    "Overall, I have get a sense of how important it is of quality control of rna-seq. And there are still a lot of things to learn and study."
   ]
  },
  {
   "cell_type": "markdown",
   "id": "dying-hearing",
   "metadata": {
    "kernel": "SoS"
   },
   "source": [
    "## Next things to do\n",
    "* Working on xQTL association analysis on different dataset\n",
    "* Continuing learning genomics, using [these lectures](https://space.bilibili.com/685132603/video).\n",
    "* Studying on [Computational Biology & Bioinformatics](https://www.youtube.com/playlist?list=PLeB-Dlq-v6tY3QLdQBA7rwb4a7fK9mLpv) and [use these lecture materials](https://liulab-dfci.github.io/teaching)."
   ]
  }
 ],
 "metadata": {
  "kernelspec": {
   "display_name": "SoS",
   "language": "sos",
   "name": "sos"
  },
  "language_info": {
   "codemirror_mode": "sos",
   "file_extension": ".sos",
   "mimetype": "text/x-sos",
   "name": "sos",
   "nbconvert_exporter": "sos_notebook.converter.SoS_Exporter",
   "pygments_lexer": "sos"
  },
  "sos": {
   "kernels": [
    [
     "Bash",
     "bash",
     "Bash",
     "#E6EEFF",
     "shell"
    ],
    [
     "SoS",
     "sos",
     "",
     "",
     "sos"
    ]
   ],
   "panel": {
    "displayed": true,
    "height": 0
   },
   "version": "0.23.4"
  }
 },
 "nbformat": 4,
 "nbformat_minor": 5
}
